{
 "cells": [
  {
   "cell_type": "code",
   "execution_count": 1,
   "id": "06adfb88-075b-40b4-899c-e385521ca254",
   "metadata": {},
   "outputs": [],
   "source": [
    "#1. What is a Decision Tree, and how does it work?\n",
    "#A Decision Tree is a flowchart-like structure used for classification and regression. \n",
    "#It splits data into branches based on feature values using decision rules until it reaches a prediction at the leaf node. \n",
    "#It works by recursively partitioning the dataset into subsets that are more homogeneous with respect to the target variable."
   ]
  },
  {
   "cell_type": "code",
   "execution_count": null,
   "id": "b2fbe31b-6b08-45d9-bd12-8232bc04adb2",
   "metadata": {},
   "outputs": [],
   "source": [
    "#2. What are impurity measures in Decision Trees?\n",
    "#Impurity measures quantify the disorder or uncertainty in a dataset. Common measures include:\n",
    "    #Gini Impurity\n",
    "    #Entropy (used in Information Gain)\n",
    "    #Classification Error"
   ]
  },
  {
   "cell_type": "code",
   "execution_count": null,
   "id": "47e00922-b040-4f2d-ae27-478688e6b53c",
   "metadata": {},
   "outputs": [],
   "source": [
    "#3. What is the mathematical formula for Gini Impurity?"
   ]
  },
  {
   "attachments": {
    "fb3a33ec-da90-44a6-a3e0-00d5ac0bc57f.png": {
     "image/png": "[encoded data removed]"
    }
   },
   "cell_type": "markdown",
   "id": "9d500e42-8d2a-4deb-9682-6c70bb1ef41c",
   "metadata": {},
   "source": [
    "![Screenshot 2025-05-31 174817.png](attachment:fb3a33ec-da90-44a6-a3e0-00d5ac0bc57f.png)"
   ]
  },
  {
   "cell_type": "code",
   "execution_count": null,
   "id": "2f823463-f354-4610-945f-bdda18ed3323",
   "metadata": {},
   "outputs": [],
   "source": [
    "#Where p𝑖 is the probability of 𝑖 class in the node."
   ]
  },
  {
   "cell_type": "code",
   "execution_count": null,
   "id": "d72b0a82-49b9-4a24-bda3-7e33b4338bbe",
   "metadata": {},
   "outputs": [],
   "source": [
    "#4. What is the mathematical formula for Entropy?"
   ]
  },
  {
   "attachments": {
    "9a310f16-eb2d-4e7b-b35d-6d663d66c21e.png": {
     "image/png": "[encoded data removed]"
    }
   },
   "cell_type": "markdown",
   "id": "d6126c76-3a2b-4def-9c1c-1488528d9280",
   "metadata": {},
   "source": [
    "![Screenshot 2025-05-31 175126.png](attachment:9a310f16-eb2d-4e7b-b35d-6d663d66c21e.png)"
   ]
  },
  {
   "cell_type": "code",
   "execution_count": null,
   "id": "89223ea1-c45d-418f-9e61-1cfc4c550d84",
   "metadata": {},
   "outputs": [],
   "source": [
    "#Where p𝑖 is the proportion of 𝑖 class in the node."
   ]
  },
  {
   "cell_type": "code",
   "execution_count": null,
   "id": "fc1ea60b-93c4-464a-a1ea-1edd0b77f41b",
   "metadata": {},
   "outputs": [],
   "source": [
    "#5. What is Information Gain, and how is it used in Decision Trees?\n",
    "#Information Gain measures the reduction in entropy after a dataset is split on an attribute. \n",
    "#It helps select the feature that offers the most \"information\" when making a decision:"
   ]
  },
  {
   "attachments": {
    "a9e66887-2fe5-4f4a-b387-99995c040135.png": {
     "image/png": "[encoded data removed]"
    }
   },
   "cell_type": "markdown",
   "id": "6fff17d0-ca86-46a6-bdc9-226252bceaab",
   "metadata": {},
   "source": [
    "![Screenshot 2025-05-31 175317.png](attachment:a9e66887-2fe5-4f4a-b387-99995c040135.png)"
   ]
  },
  {
   "cell_type": "code",
   "execution_count": null,
   "id": "81c59551-ba7a-4674-bc19-35891f847e9b",
   "metadata": {},
   "outputs": [],
   "source": [
    "#6. What is the difference between Gini Impurity and Entropy?\n",
    "#(1)Gini is computationally faster and measures impurity.\n",
    "#(2)Entropy is based on information theory and measures uncertainty.\n",
    "#Both are used to decide the best feature split, but may lead to slightly different trees."
   ]
  },
  {
   "cell_type": "code",
   "execution_count": null,
   "id": "dad9a33d-2c87-49da-9fb9-1ccb437661f8",
   "metadata": {},
   "outputs": [],
   "source": [
    "#7. What is the mathematical explanation behind Decision Trees?\n",
    "#Decision Trees use recursive binary splitting. At each node, the algorithm:\n",
    "    #(1)Computes an impurity measure (like Gini or Entropy) for all features.\n",
    "    #(2)Selects the feature and threshold that minimizes the impurity after the split.\n",
    "    #(3)Repeats this process until a stopping condition is met (e.g., max depth, no gain)."
   ]
  },
  {
   "cell_type": "code",
   "execution_count": null,
   "id": "b0fc06e8-83d2-4669-a241-5566e434b343",
   "metadata": {},
   "outputs": [],
   "source": [
    "#8. What is Pre-Pruning in Decision Trees?\n",
    "#Pre-Pruning halts the tree growth early during training by using criteria such as:\n",
    "    #Maximum depth\n",
    "    #Minimum number of samples at a node\n",
    "    #Minimum impurity decrease\n",
    "    #This avoids overfitting from the start."
   ]
  },
  {
   "cell_type": "code",
   "execution_count": null,
   "id": "305e0bbf-aa23-48d5-b26b-adf015c6abe8",
   "metadata": {},
   "outputs": [],
   "source": [
    "#9. What is Post-Pruning in Decision Trees?\n",
    "#Post-Pruning grows the full tree first and then removes branches that provide little power, using a validation set or cost-complexity pruning.\n",
    "#This helps improve generalization."
   ]
  },
  {
   "cell_type": "code",
   "execution_count": null,
   "id": "ed941618-f2a9-410d-9b14-35368763afc3",
   "metadata": {},
   "outputs": [],
   "source": [
    "#10. What is the difference between Pre-Pruning and Post-Pruning?\n",
    "#(1)Pre-Pruning: Stops tree growth early, before reaching pure leaf nodes.\n",
    "#(2)Post-Pruning: Builds the full tree and then simplifies it by removing unhelpful splits."
   ]
  },
  {
   "cell_type": "code",
   "execution_count": null,
   "id": "27e76851-108b-4411-98c7-6a132b3a8b25",
   "metadata": {},
   "outputs": [],
   "source": [
    "#11. What is a Decision Tree Regressor?\n",
    "#A Decision Tree Regressor predicts continuous values instead of categories. It splits data to minimize variance within subsets rather than impurity."
   ]
  },
  {
   "cell_type": "code",
   "execution_count": null,
   "id": "133b10c5-a6fd-4c9a-9643-260088e45981",
   "metadata": {},
   "outputs": [],
   "source": [
    "#12. What are the advantages and disadvantages of Decision Trees?\n",
    "#Advantages:\n",
    "    #Easy to interpret and visualize\n",
    "    #Handles both numerical and categorical data\n",
    "    #Requires little data preprocessing\n",
    "#Disadvantages:\n",
    "    #Prone to overfitting\n",
    "    #Unstable with small data changes\n",
    "    #Biased toward features with more levels"
   ]
  },
  {
   "cell_type": "code",
   "execution_count": null,
   "id": "87bd9178-dba0-4a4e-9693-71189819c854",
   "metadata": {},
   "outputs": [],
   "source": [
    "#13. How does a Decision Tree handle missing values?\n",
    "#Methods include:\n",
    "    #Assigning the most frequent value\n",
    "    #Using surrogate splits (alternative features)\n",
    "    #Imputation before training"
   ]
  },
  {
   "cell_type": "code",
   "execution_count": null,
   "id": "3ac5c28d-d070-4952-84a9-0091551ddf63",
   "metadata": {},
   "outputs": [],
   "source": [
    "#14. How does a Decision Tree handle categorical features?\n",
    "#Converts categories into binary splits (e.g., one-vs-rest)\n",
    "#Can use one-hot encoding\n",
    "#Some implementations handle them natively by evaluating the best category groupings"
   ]
  },
  {
   "cell_type": "code",
   "execution_count": null,
   "id": "aa5346d2-30c7-44bb-9237-ae239d298d38",
   "metadata": {},
   "outputs": [],
   "source": [
    "#15. What are some real-world applications of Decision Trees?\n",
    "#Medical diagnosis (e.g., predicting diseases)\n",
    "#Credit risk analysis\n",
    "#Customer segmentation\n",
    "#Fraud detection\n",
    "#Manufacturing quality control"
   ]
  },
  {
   "cell_type": "code",
   "execution_count": 27,
   "id": "3e06cb35-2770-414c-8644-4b13d688673e",
   "metadata": {},
   "outputs": [
    {
     "name": "stdout",
     "output_type": "stream",
     "text": [
      "Accuracy: 1.0\n"
     ]
    }
   ],
   "source": [
    "#16. Write a Python program to train a Decision Tree Classifier on the Iris dataset and print the model accuracy.\n",
    "\n",
    "from sklearn.datasets import load_iris\n",
    "from sklearn.tree import DecisionTreeClassifier\n",
    "from sklearn.model_selection import train_test_split\n",
    "from sklearn.metrics import accuracy_score\n",
    "\n",
    "X, y = load_iris(return_X_y=True)\n",
    "X_train, X_test, y_train, y_test = train_test_split(X, y, test_size=0.3)\n",
    "model = DecisionTreeClassifier()\n",
    "model.fit(X_train, y_train)\n",
    "print(\"Accuracy:\", accuracy_score(y_test, model.predict(X_test)))\n"
   ]
  },
  {
   "cell_type": "code",
   "execution_count": 33,
   "id": "2464ce10-6be7-4c77-bf00-8c68806e8cd9",
   "metadata": {},
   "outputs": [
    {
     "name": "stdout",
     "output_type": "stream",
     "text": [
      "Feature importances: [0.01906318 0.01906318 0.0492455  0.91262813]\n"
     ]
    }
   ],
   "source": [
    "#17. Write a Python program to train a Decision Tree Classifier using Gini Impurity as the criterion and print the feature importances.\n",
    "\n",
    "model = DecisionTreeClassifier(criterion='gini')\n",
    "model.fit(X_train, y_train)\n",
    "print(\"Feature importances:\", model.feature_importances_)\n"
   ]
  },
  {
   "cell_type": "code",
   "execution_count": 35,
   "id": "3c571168-9a43-47f3-a033-22357a13143e",
   "metadata": {},
   "outputs": [
    {
     "name": "stdout",
     "output_type": "stream",
     "text": [
      "Accuracy: 0.9777777777777777\n"
     ]
    }
   ],
   "source": [
    "#18. Write a Python program to train a Decision Tree Classifier using Entropy as the splitting criterion and print the model accuracy.\n",
    "\n",
    "model = DecisionTreeClassifier(criterion='entropy')\n",
    "model.fit(X_train, y_train)\n",
    "print(\"Accuracy:\", accuracy_score(y_test, model.predict(X_test)))\n"
   ]
  },
  {
   "cell_type": "code",
   "execution_count": 37,
   "id": "682ea1b2-4850-47c0-9a61-0ffe1f80bda9",
   "metadata": {},
   "outputs": [
    {
     "name": "stdout",
     "output_type": "stream",
     "text": [
      "MSE: 0.5569148488535466\n"
     ]
    }
   ],
   "source": [
    "#19. Write a Python program to train a Decision Tree Regressor on a housing dataset and evaluate using Mean Squared Error (MSE).\n",
    "\n",
    "from sklearn.datasets import fetch_california_housing\n",
    "from sklearn.tree import DecisionTreeRegressor\n",
    "from sklearn.metrics import mean_squared_error\n",
    "\n",
    "data = fetch_california_housing()\n",
    "X_train, X_test, y_train, y_test = train_test_split(data.data, data.target)\n",
    "reg = DecisionTreeRegressor()\n",
    "reg.fit(X_train, y_train)\n",
    "print(\"MSE:\", mean_squared_error(y_test, reg.predict(X_test)))\n"
   ]
  },
  {
   "cell_type": "code",
   "execution_count": 93,
   "id": "024eb77a-36d9-4dbf-a39b-93f98c32dd76",
   "metadata": {},
   "outputs": [
    {
     "ename": "ModuleNotFoundError",
     "evalue": "No module named 'graphviz'",
     "output_type": "error",
     "traceback": [
      "\u001b[1;31m---------------------------------------------------------------------------\u001b[0m",
      "\u001b[1;31mModuleNotFoundError\u001b[0m                       Traceback (most recent call last)",
      "Cell \u001b[1;32mIn[93], line 6\u001b[0m\n\u001b[0;32m      4\u001b[0m \u001b[38;5;28;01mfrom\u001b[39;00m \u001b[38;5;21;01msklearn\u001b[39;00m\u001b[38;5;21;01m.\u001b[39;00m\u001b[38;5;21;01mtree\u001b[39;00m \u001b[38;5;28;01mimport\u001b[39;00m DecisionTreeClassifier\n\u001b[0;32m      5\u001b[0m \u001b[38;5;28;01mfrom\u001b[39;00m \u001b[38;5;21;01msklearn\u001b[39;00m \u001b[38;5;28;01mimport\u001b[39;00m tree\n\u001b[1;32m----> 6\u001b[0m \u001b[38;5;28;01mimport\u001b[39;00m \u001b[38;5;21;01mgraphviz\u001b[39;00m\n\u001b[0;32m      7\u001b[0m \u001b[38;5;28;01mimport\u001b[39;00m \u001b[38;5;21;01mwarnings\u001b[39;00m\n\u001b[0;32m      9\u001b[0m \u001b[38;5;66;03m# Ignore warnings for cleaner output\u001b[39;00m\n",
      "\u001b[1;31mModuleNotFoundError\u001b[0m: No module named 'graphviz'"
     ]
    }
   ],
   "source": [
    "#20. Write a Python program to train a Decision Tree Classifier and visualize the tree using graphviz.\n",
    "\n",
    "from sklearn.datasets import load_wine\n",
    "from sklearn.tree import DecisionTreeClassifier\n",
    "from sklearn import tree\n",
    "import graphviz\n",
    "import warnings\n",
    "\n",
    "# Ignore warnings for cleaner output\n",
    "warnings.filterwarnings('ignore')\n",
    "\n",
    "# Load the dataset\n",
    "dataset = load_wine()\n",
    "X = dataset.data\n",
    "y = dataset.target\n",
    "\n",
    "# Create a Decision Tree Classifier\n",
    "model = DecisionTreeClassifier()\n",
    "\n",
    "# Fit the model with the training data\n",
    "model.fit(X, y)\n",
    "\n",
    "# Visualize the Decision Tree\n",
    "dot_data = tree.export_graphviz(model, out_file=None, \n",
    "                                 feature_names=dataset.feature_names,  \n",
    "                                 class_names=dataset.target_names,  \n",
    "                                 filled=True, rounded=True,  \n",
    "                                 special_characters=True)  \n",
    "\n",
    "# Create a Graphviz source object\n",
    "graph = graphviz.Source(dot_data)  \n",
    "graph.render(\"wine_decision_tree\")  # Save the tree as a PDF file\n",
    "graph.view()  # Open the PDF file\n"
   ]
  },
  {
   "cell_type": "code",
   "execution_count": 91,
   "id": "2450e05c-c8a8-4db5-8f4c-d2c1076e1f86",
   "metadata": {},
   "outputs": [
    {
     "name": "stdout",
     "output_type": "stream",
     "text": [
      "Fully Grown Decision Tree Accuracy: 88.89%\n",
      "\n",
      "Fully Grown Classification Report:\n",
      "              precision    recall  f1-score   support\n",
      "\n",
      "           0       0.86      0.86      0.86         7\n",
      "           1       0.88      1.00      0.93         7\n",
      "           2       1.00      0.75      0.86         4\n",
      "\n",
      "    accuracy                           0.89        18\n",
      "   macro avg       0.91      0.87      0.88        18\n",
      "weighted avg       0.90      0.89      0.89        18\n",
      "\n",
      "Decision Tree (max_depth=3) Accuracy: 88.89%\n",
      "\n",
      "Max Depth Classification Report:\n",
      "              precision    recall  f1-score   support\n",
      "\n",
      "           0       1.00      0.86      0.92         7\n",
      "           1       0.78      1.00      0.88         7\n",
      "           2       1.00      0.75      0.86         4\n",
      "\n",
      "    accuracy                           0.89        18\n",
      "   macro avg       0.93      0.87      0.89        18\n",
      "weighted avg       0.91      0.89      0.89        18\n",
      "\n"
     ]
    }
   ],
   "source": [
    "#21. Write a Python program to train a Decision Tree Classifier with a maximum depth of 3 and compare its accuracy with a fully grown tree.\n",
    "\n",
    "from sklearn.datasets import load_wine\n",
    "from sklearn.tree import DecisionTreeClassifier\n",
    "from sklearn.metrics import accuracy_score, classification_report\n",
    "from sklearn.model_selection import train_test_split\n",
    "import warnings\n",
    "\n",
    "# Ignore warnings for cleaner output\n",
    "warnings.filterwarnings('ignore')\n",
    "\n",
    "# Load the dataset\n",
    "dataset = load_wine()\n",
    "X = dataset.data\n",
    "y = dataset.target\n",
    "\n",
    "# Split the dataset into training and testing sets\n",
    "X_train, X_test, y_train, y_test = train_test_split(\n",
    "    X, y, test_size=0.1, random_state=42\n",
    ")\n",
    "\n",
    "# Create a fully grown Decision Tree Classifier\n",
    "full_tree_model = DecisionTreeClassifier()\n",
    "\n",
    "# Fit the fully grown model with training data\n",
    "full_tree_model.fit(X_train, y_train)\n",
    "\n",
    "# Make predictions on the test set with the fully grown model\n",
    "full_tree_predictions = full_tree_model.predict(X_test)\n",
    "\n",
    "# Evaluate the fully grown model\n",
    "full_tree_accuracy = accuracy_score(y_test, full_tree_predictions)\n",
    "print(f\"Fully Grown Decision Tree Accuracy: {full_tree_accuracy * 100:.2f}%\\n\")\n",
    "print(f\"Fully Grown Classification Report:\\n{classification_report(y_test, full_tree_predictions)}\")\n",
    "\n",
    "# Create a Decision Tree Classifier with a maximum depth of 3\n",
    "max_depth_model = DecisionTreeClassifier(max_depth=3)\n",
    "\n",
    "# Fit the max depth model with training data\n",
    "max_depth_model.fit(X_train, y_train)\n",
    "\n",
    "# Make predictions on the test set with the max depth model\n",
    "max_depth_predictions = max_depth_model.predict(X_test)\n",
    "\n",
    "# Evaluate the max depth model\n",
    "max_depth_accuracy = accuracy_score(y_test, max_depth_predictions)\n",
    "print(f\"Decision Tree (max_depth=3) Accuracy: {max_depth_accuracy * 100:.2f}%\\n\")\n",
    "print(f\"Max Depth Classification Report:\\n{classification_report(y_test, max_depth_predictions)}\")\n"
   ]
  },
  {
   "cell_type": "code",
   "execution_count": 89,
   "id": "816a0061-2fad-4caf-9afa-5acd00fa6c1d",
   "metadata": {},
   "outputs": [
    {
     "name": "stdout",
     "output_type": "stream",
     "text": [
      "Default Decision Tree Accuracy: 88.89%\n",
      "\n",
      "Default Classification Report:\n",
      "              precision    recall  f1-score   support\n",
      "\n",
      "           0       0.86      0.86      0.86         7\n",
      "           1       0.88      1.00      0.93         7\n",
      "           2       1.00      0.75      0.86         4\n",
      "\n",
      "    accuracy                           0.89        18\n",
      "   macro avg       0.91      0.87      0.88        18\n",
      "weighted avg       0.90      0.89      0.89        18\n",
      "\n",
      "Custom Decision Tree (min_samples_split=5) Accuracy: 88.89%\n",
      "\n",
      "Custom Classification Report:\n",
      "              precision    recall  f1-score   support\n",
      "\n",
      "           0       0.86      0.86      0.86         7\n",
      "           1       0.88      1.00      0.93         7\n",
      "           2       1.00      0.75      0.86         4\n",
      "\n",
      "    accuracy                           0.89        18\n",
      "   macro avg       0.91      0.87      0.88        18\n",
      "weighted avg       0.90      0.89      0.89        18\n",
      "\n"
     ]
    }
   ],
   "source": [
    "#22. Write a Python program to train a Decision Tree Classifier using min_samples_split=5 and compare its accuracy with a default tree.\n",
    "\n",
    "from sklearn.datasets import load_wine\n",
    "from sklearn.tree import DecisionTreeClassifier\n",
    "from sklearn.metrics import accuracy_score, classification_report\n",
    "from sklearn.model_selection import train_test_split\n",
    "import warnings\n",
    "\n",
    "# Ignore warnings for cleaner output\n",
    "warnings.filterwarnings('ignore')\n",
    "\n",
    "# Load the dataset\n",
    "dataset = load_wine()\n",
    "X = dataset.data\n",
    "y = dataset.target\n",
    "\n",
    "# Split the dataset into training and testing sets\n",
    "X_train, X_test, y_train, y_test = train_test_split(\n",
    "    X, y, test_size=0.1, random_state=42\n",
    ")\n",
    "\n",
    "# Create a default Decision Tree Classifier\n",
    "default_model = DecisionTreeClassifier()\n",
    "\n",
    "# Fit the default model with training data\n",
    "default_model.fit(X_train, y_train)\n",
    "\n",
    "# Make predictions on the test set with the default model\n",
    "default_predictions = default_model.predict(X_test)\n",
    "\n",
    "# Evaluate the default model\n",
    "default_accuracy = accuracy_score(y_test, default_predictions)\n",
    "print(f\"Default Decision Tree Accuracy: {default_accuracy * 100:.2f}%\\n\")\n",
    "print(f\"Default Classification Report:\\n{classification_report(y_test, default_predictions)}\")\n",
    "\n",
    "# Create a Decision Tree Classifier with min_samples_split=5\n",
    "custom_model = DecisionTreeClassifier(min_samples_split=5)\n",
    "\n",
    "# Fit the custom model with training data\n",
    "custom_model.fit(X_train, y_train)\n",
    "\n",
    "# Make predictions on the test set with the custom model\n",
    "custom_predictions = custom_model.predict(X_test)\n",
    "\n",
    "# Evaluate the custom model\n",
    "custom_accuracy = accuracy_score(y_test, custom_predictions)\n",
    "print(f\"Custom Decision Tree (min_samples_split=5) Accuracy: {custom_accuracy * 100:.2f}%\\n\")\n",
    "print(f\"Custom Classification Report:\\n{classification_report(y_test, custom_predictions)}\")\n"
   ]
  },
  {
   "cell_type": "code",
   "execution_count": 49,
   "id": "eca77729-c047-45b5-a968-40321781269c",
   "metadata": {},
   "outputs": [
    {
     "name": "stdout",
     "output_type": "stream",
     "text": [
      "Scaled accuracy: 0.9473684210526315\n"
     ]
    }
   ],
   "source": [
    "#23. Write a Python program to apply feature scaling before training a Decision Tree Classifier and compare its accuracy with unscaled data.\n",
    "\n",
    "from sklearn.preprocessing import StandardScaler\n",
    "\n",
    "scaler = StandardScaler()\n",
    "X_scaled = scaler.fit_transform(X)\n",
    "X_train_s, X_test_s, y_train, y_test = train_test_split(X_scaled, y)\n",
    "model.fit(X_train_s, y_train)\n",
    "print(\"Scaled accuracy:\", accuracy_score(y_test, model.predict(X_test_s)))\n"
   ]
  },
  {
   "cell_type": "code",
   "execution_count": 87,
   "id": "053be5cd-fcd0-41f5-b083-dd3bfaee14bc",
   "metadata": {},
   "outputs": [
    {
     "name": "stdout",
     "output_type": "stream",
     "text": [
      "Test Set Accuracy: 88.89%\n",
      "\n",
      "Classification Report:\n",
      "              precision    recall  f1-score   support\n",
      "\n",
      "           0       0.86      0.86      0.86         7\n",
      "           1       0.88      1.00      0.93         7\n",
      "           2       1.00      0.75      0.86         4\n",
      "\n",
      "    accuracy                           0.89        18\n",
      "   macro avg       0.91      0.87      0.88        18\n",
      "weighted avg       0.90      0.89      0.89        18\n",
      "\n"
     ]
    }
   ],
   "source": [
    "#24. Write a Python program to train a Decision Tree Classifier using One-vs-Rest (OvR) strategy for multiclass classification.\n",
    "\n",
    "from sklearn.datasets import load_wine\n",
    "from sklearn.tree import DecisionTreeClassifier\n",
    "from sklearn.multiclass import OneVsRestClassifier\n",
    "from sklearn.metrics import accuracy_score, classification_report\n",
    "from sklearn.model_selection import train_test_split\n",
    "import warnings\n",
    "\n",
    "# Ignore warnings for cleaner output\n",
    "warnings.filterwarnings('ignore')\n",
    "\n",
    "# Load the dataset\n",
    "dataset = load_wine()\n",
    "X = dataset.data\n",
    "y = dataset.target\n",
    "\n",
    "# Split the dataset into training and testing sets\n",
    "X_train, X_test, y_train, y_test = train_test_split(\n",
    "    X, y, test_size=0.1, random_state=42\n",
    ")\n",
    "\n",
    "# Create the Decision Tree model with One-vs-Rest strategy\n",
    "model = OneVsRestClassifier(DecisionTreeClassifier())\n",
    "\n",
    "# Fit the model with training data\n",
    "model.fit(X_train, y_train)\n",
    "\n",
    "# Make predictions on the test set\n",
    "predictions = model.predict(X_test)\n",
    "\n",
    "# Evaluate the model\n",
    "print(f\"Test Set Accuracy: {accuracy_score(y_test, predictions) * 100:.2f}%\\n\")\n",
    "print(f\"Classification Report:\\n{classification_report(y_test, predictions)}\")\n"
   ]
  },
  {
   "cell_type": "code",
   "execution_count": 53,
   "id": "8c1e205c-dac5-41f5-99e1-18fb55df0690",
   "metadata": {},
   "outputs": [
    {
     "name": "stdout",
     "output_type": "stream",
     "text": [
      "sepal length (cm): 0.04945530703368373\n",
      "sepal width (cm): 0.0\n",
      "petal length (cm): 0.6611153510691766\n",
      "petal width (cm): 0.28942934189713965\n"
     ]
    }
   ],
   "source": [
    "#25. Write a Python program to train a Decision Tree Classifier and display the feature importance scores.\n",
    "\n",
    "for name, score in zip(load_iris().feature_names, model.feature_importances_):\n",
    "    print(f\"{name}: {score}\")\n"
   ]
  },
  {
   "cell_type": "code",
   "execution_count": 85,
   "id": "0490e179-202d-48ee-9bde-07c03c582427",
   "metadata": {},
   "outputs": [
    {
     "name": "stdout",
     "output_type": "stream",
     "text": [
      "Restricted Tree (max_depth=5):\n",
      "Mean Absolute Error: 0.52\n",
      "R-squared: 0.60\n",
      "\n",
      "Unrestricted Tree:\n",
      "Mean Absolute Error: 0.45\n",
      "R-squared: 0.62\n"
     ]
    }
   ],
   "source": [
    "#26. Write a Python program to train a Decision Tree Regressor with max_depth=5 and compare its performance with an unrestricted tree.\n",
    "\n",
    "import numpy as np\n",
    "import pandas as pd\n",
    "from sklearn.datasets import fetch_california_housing\n",
    "from sklearn.model_selection import train_test_split\n",
    "from sklearn.tree import DecisionTreeRegressor\n",
    "from sklearn.metrics import mean_absolute_error, r2_score\n",
    "\n",
    "# Load the California housing dataset\n",
    "data = fetch_california_housing()\n",
    "X = data.data\n",
    "y = data.target\n",
    "\n",
    "# Split data into training and testing sets\n",
    "X_train, X_test, y_train, y_test = train_test_split(X, y, test_size=0.2, random_state=42)\n",
    "\n",
    "# Train a Decision Tree Regressor with max_depth=5\n",
    "restricted_tree = DecisionTreeRegressor(max_depth=5, random_state=42)\n",
    "restricted_tree.fit(X_train, y_train)\n",
    "\n",
    "# Train an unrestricted Decision Tree Regressor\n",
    "unrestricted_tree = DecisionTreeRegressor(random_state=42)\n",
    "unrestricted_tree.fit(X_train, y_train)\n",
    "\n",
    "# Make predictions\n",
    "y_pred_restricted = restricted_tree.predict(X_test)\n",
    "y_pred_unrestricted = unrestricted_tree.predict(X_test)\n",
    "\n",
    "# Evaluate performance\n",
    "mae_restricted = mean_absolute_error(y_test, y_pred_restricted)\n",
    "mae_unrestricted = mean_absolute_error(y_test, y_pred_unrestricted)\n",
    "\n",
    "r2_restricted = r2_score(y_test, y_pred_restricted)\n",
    "r2_unrestricted = r2_score(y_test, y_pred_unrestricted)\n",
    "\n",
    "# Print the evaluation metrics\n",
    "print(f'Restricted Tree (max_depth=5):')\n",
    "print(f'Mean Absolute Error: {mae_restricted:.2f}')\n",
    "print(f'R-squared: {r2_restricted:.2f}')\n",
    "\n",
    "print(f'\\nUnrestricted Tree:')\n",
    "print(f'Mean Absolute Error: {mae_unrestricted:.2f}')\n",
    "print(f'R-squared: {r2_unrestricted:.2f}')\n"
   ]
  },
  {
   "cell_type": "code",
   "execution_count": 83,
   "id": "f2375dd2-27be-4651-ac9c-85842a204f18",
   "metadata": {},
   "outputs": [
    {
     "data": {
      "image/png": "[encoded data removed]",
      "text/plain": [
       "<Figure size 1000x600 with 1 Axes>"
      ]
     },
     "metadata": {},
     "output_type": "display_data"
    }
   ],
   "source": [
    "#27. Write a Python program to train a Decision Tree Classifier, apply Cost Complexity Pruning (CCP), and visualize its effect on accuracy.\n",
    "\n",
    "import numpy as np\n",
    "import matplotlib.pyplot as plt\n",
    "from sklearn.datasets import load_iris\n",
    "from sklearn.model_selection import train_test_split\n",
    "from sklearn.tree import DecisionTreeClassifier\n",
    "from sklearn.metrics import accuracy_score\n",
    "\n",
    "# Load the Iris dataset\n",
    "data = load_iris()\n",
    "X = data.data\n",
    "y = data.target\n",
    "\n",
    "# Split data into training and testing sets\n",
    "X_train, X_test, y_train, y_test = train_test_split(\n",
    "    X, y, test_size=0.2, random_state=42\n",
    ")\n",
    "\n",
    "# Train a decision tree classifier without pruning (max complexity)\n",
    "clf = DecisionTreeClassifier(random_state=42)\n",
    "clf.fit(X_train, y_train)\n",
    "\n",
    "# Get the effective alphas and the total impurities at each step of pruning\n",
    "path = clf.cost_complexity_pruning_path(X_train, y_train)\n",
    "ccp_alphas, impurities = path.ccp_alphas, path.impurities\n",
    "\n",
    "# Remove the maximum value of alpha (pruning all nodes)\n",
    "ccp_alphas = ccp_alphas[:-1]\n",
    "\n",
    "# List to store the decision trees for different alphas\n",
    "clfs = []\n",
    "\n",
    "# Train trees using different values of alpha for pruning\n",
    "for ccp_alpha in ccp_alphas:\n",
    "    clf = DecisionTreeClassifier(random_state=42, ccp_alpha=ccp_alpha)\n",
    "    clf.fit(X_train, y_train)\n",
    "    clfs.append(clf)\n",
    "\n",
    "# Calculate accuracy of each tree on the test set\n",
    "train_scores = [accuracy_score(y_train, clf.predict(X_train)) for clf in clfs]\n",
    "test_scores = [accuracy_score(y_test, clf.predict(X_test)) for clf in clfs]\n",
    "\n",
    "# Plotting accuracy vs alpha values\n",
    "plt.figure(figsize=(10, 6))\n",
    "plt.plot(ccp_alphas, train_scores, marker='o', label='Train Accuracy', drawstyle=\"steps-post\")\n",
    "plt.plot(ccp_alphas, test_scores, marker='o', label='Test Accuracy', drawstyle=\"steps-post\")\n",
    "plt.xlabel('Effective alpha (ccp_alpha)')\n",
    "plt.ylabel('Accuracy')\n",
    "plt.title('Accuracy vs Cost Complexity Pruning Alpha')\n",
    "plt.legend()\n",
    "plt.grid(True)\n",
    "plt.show()\n",
    "\n"
   ]
  },
  {
   "cell_type": "code",
   "execution_count": 81,
   "id": "b545fb32-ccea-4a4e-9ab9-4a16ce4331d1",
   "metadata": {},
   "outputs": [
    {
     "name": "stdout",
     "output_type": "stream",
     "text": [
      "Precision: 1.00\n",
      "Recall: 1.00\n",
      "F1-Score: 1.00\n",
      "\n",
      "Classification Report:\n",
      "               precision    recall  f1-score   support\n",
      "\n",
      "      setosa       1.00      1.00      1.00        10\n",
      "  versicolor       1.00      1.00      1.00         9\n",
      "   virginica       1.00      1.00      1.00        11\n",
      "\n",
      "    accuracy                           1.00        30\n",
      "   macro avg       1.00      1.00      1.00        30\n",
      "weighted avg       1.00      1.00      1.00        30\n",
      "\n"
     ]
    }
   ],
   "source": [
    "#28. Write a Python program to train a Decision Tree Classifier and evaluate its performance using Precision, Recall, and F1-Score.\n",
    "\n",
    "import pandas as pd\n",
    "import numpy as np\n",
    "from sklearn.datasets import load_iris\n",
    "from sklearn.model_selection import train_test_split\n",
    "from sklearn.tree import DecisionTreeClassifier\n",
    "from sklearn.metrics import precision_score, recall_score, f1_score, classification_report\n",
    "\n",
    "# Load the Iris dataset\n",
    "data = load_iris()\n",
    "X = data.data\n",
    "y = data.target\n",
    "\n",
    "# Split data into training and testing sets\n",
    "X_train, X_test, y_train, y_test = train_test_split(X, y, test_size=0.2, random_state=42)\n",
    "\n",
    "# Initialize and train the Decision Tree Classifier\n",
    "clf = DecisionTreeClassifier(random_state=42)\n",
    "clf.fit(X_train, y_train)\n",
    "\n",
    "# Make predictions\n",
    "y_pred = clf.predict(X_test)\n",
    "\n",
    "# Calculate Precision, Recall, and F1-Score\n",
    "precision = precision_score(y_test, y_pred, average='weighted')\n",
    "recall = recall_score(y_test, y_pred, average='weighted')\n",
    "f1 = f1_score(y_test, y_pred, average='weighted')\n",
    "\n",
    "# Print the evaluation metrics\n",
    "print(f'Precision: {precision:.2f}')\n",
    "print(f'Recall: {recall:.2f}')\n",
    "print(f'F1-Score: {f1:.2f}')\n",
    "\n",
    "# Print the classification report for detailed metrics\n",
    "print(\"\\nClassification Report:\\n\", classification_report(y_test, y_pred, target_names=data.target_names))\n"
   ]
  },
  {
   "cell_type": "code",
   "execution_count": 79,
   "id": "611104f4-aa91-48a1-b3f8-e8d09f00b960",
   "metadata": {},
   "outputs": [
    {
     "name": "stdout",
     "output_type": "stream",
     "text": [
      "Accuracy: 1.0\n"
     ]
    },
    {
     "data": {
      "image/png": "[encoded data removed]",
      "text/plain": [
       "<Figure size 800x600 with 2 Axes>"
      ]
     },
     "metadata": {},
     "output_type": "display_data"
    }
   ],
   "source": [
    "#29.  Write a Python program to train a Decision Tree Classifier and visualize the confusion matrix using seaborn.\n",
    "\n",
    "import pandas as pd\n",
    "import numpy as np\n",
    "import seaborn as sns\n",
    "import matplotlib.pyplot as plt\n",
    "from sklearn.datasets import load_iris\n",
    "from sklearn.model_selection import train_test_split\n",
    "from sklearn.tree import DecisionTreeClassifier\n",
    "from sklearn.metrics import confusion_matrix, accuracy_score\n",
    "\n",
    "# Load the Iris dataset\n",
    "data = load_iris()\n",
    "X = data.data\n",
    "y = data.target\n",
    "\n",
    "# Split data into training and testing sets\n",
    "X_train, X_test, y_train, y_test = train_test_split(X, y, test_size=0.2, random_state=42)\n",
    "\n",
    "# Initialize and train the Decision Tree Classifier\n",
    "clf = DecisionTreeClassifier(random_state=42)\n",
    "clf.fit(X_train, y_train)\n",
    "\n",
    "# Make predictions\n",
    "y_pred = clf.predict(X_test)\n",
    "\n",
    "# Calculate the confusion matrix\n",
    "conf_matrix = confusion_matrix(y_test, y_pred)\n",
    "\n",
    "# Print accuracy\n",
    "accuracy = accuracy_score(y_test, y_pred)\n",
    "print(f'Accuracy: {accuracy}')\n",
    "\n",
    "# Visualize the confusion matrix using Seaborn\n",
    "plt.figure(figsize=(8, 6))\n",
    "sns.heatmap(conf_matrix, annot=True, fmt='d', cmap='Blues', \n",
    "            xticklabels=data.target_names, \n",
    "            yticklabels=data.target_names)\n",
    "plt.ylabel('Actual')\n",
    "plt.xlabel('Predicted')\n",
    "plt.title('Confusion Matrix')\n",
    "plt.show()\n"
   ]
  },
  {
   "cell_type": "code",
   "execution_count": 77,
   "id": "9089065d-5fdd-4758-825b-c462d13c39c0",
   "metadata": {},
   "outputs": [
    {
     "name": "stdout",
     "output_type": "stream",
     "text": [
      "Best Hyperparameters: {'criterion': 'gini', 'max_depth': None, 'min_samples_split': 2}\n",
      "Best Accuracy (CV): 0.9416666666666668\n",
      "Test Accuracy: 1.0\n"
     ]
    }
   ],
   "source": [
    "#30. Write a Python program to train a Decision Tree Classifier and use GridSearchCV to find the optimal values for max_depth and min_samples_split.\n",
    "\n",
    "from sklearn.datasets import load_iris\n",
    "from sklearn.model_selection import train_test_split, GridSearchCV\n",
    "from sklearn.tree import DecisionTreeClassifier\n",
    "from sklearn.metrics import accuracy_score\n",
    "\n",
    "# Load the Iris dataset\n",
    "data = load_iris()\n",
    "X = data.data\n",
    "y = data.target\n",
    "\n",
    "# Split data into training and testing sets\n",
    "X_train, X_test, y_train, y_test = train_test_split(X, y, test_size=0.2, random_state=42)\n",
    "\n",
    "# Define the Decision Tree model\n",
    "model = DecisionTreeClassifier(random_state=42)\n",
    "\n",
    "# Create a hyperparameter grid\n",
    "param_grid = {\n",
    "    'max_depth': [None, 3, 5, 10],\n",
    "    'min_samples_split': [2, 5, 10],\n",
    "    'criterion': ['gini', 'entropy']\n",
    "}\n",
    "\n",
    "# Set up GridSearchCV with 5-fold cross-validation\n",
    "grid_search = GridSearchCV(estimator=model, param_grid=param_grid, cv=5, scoring='accuracy')\n",
    "\n",
    "# Fit the model on the training data\n",
    "grid_search.fit(X_train, y_train)\n",
    "\n",
    "# Print the best hyperparameters and accuracy score\n",
    "print(\"Best Hyperparameters:\", grid_search.best_params_)\n",
    "print(\"Best Accuracy (CV):\", grid_search.best_score_)\n",
    "\n",
    "# Evaluate the best model on the test data\n",
    "best_model = grid_search.best_estimator_\n",
    "test_accuracy = best_model.score(X_test, y_test)\n",
    "print(\"Test Accuracy:\", test_accuracy)\n"
   ]
  },
  {
   "cell_type": "code",
   "execution_count": null,
   "id": "dd4ee535-df35-4071-893d-0a08f03c2b7f",
   "metadata": {},
   "outputs": [],
   "source": []
  }
 ],
 "metadata": {
  "kernelspec": {
   "display_name": "Python [conda env:base] *",
   "language": "python",
   "name": "conda-base-py"
  },
  "language_info": {
   "codemirror_mode": {
    "name": "ipython",
    "version": 3
   },
   "file_extension": ".py",
   "mimetype": "text/x-python",
   "name": "python",
   "nbconvert_exporter": "python",
   "pygments_lexer": "ipython3",
   "version": "3.12.7"
  }
 },
 "nbformat": 4,
 "nbformat_minor": 5
}
